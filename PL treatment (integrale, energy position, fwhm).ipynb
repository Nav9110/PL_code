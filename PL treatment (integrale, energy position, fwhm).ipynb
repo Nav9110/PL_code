{
 "cells": [
  {
   "cell_type": "markdown",
   "id": "576c4f39",
   "metadata": {},
   "source": [
    "# Light soaking study\n",
    "\n",
    "### Prends en entrée un fichier Excel .csv\n",
    "### Fits les spectres de PL\n",
    "### Recupere une liste des intégrales\n",
    "### Recupere une liste des bandgaps\n",
    "### Recupere une liste des FWHM"
   ]
  },
  {
   "cell_type": "code",
   "execution_count": null,
   "id": "03054d2b",
   "metadata": {},
   "outputs": [],
   "source": [
    "import pandas as pd\n",
    "import numpy as np\n",
    "import matplotlib.pyplot as plt\n",
    "from scipy.integrate import quad\n",
    "%matplotlib inline\n",
    "from numpy import trapz\n",
    "from scipy.interpolate import interp1d"
   ]
  },
  {
   "cell_type": "code",
   "execution_count": null,
   "id": "a48108e8",
   "metadata": {},
   "outputs": [],
   "source": [
    "# Chemin du répertoire + nom du fichier\n",
    "chemin = r'C:\\Users\\Eva.Uzayambaza\\Documents\\Eva Documents\\Results\\PL Results\\1 st campaign\\Redo 1st campaing20250414\\P5-2C CSV.csv'\n",
    "df = pd.read_csv(chemin, sep=',')\n",
    "df"
   ]
  },
  {
   "cell_type": "code",
   "execution_count": null,
   "id": "6a53f38c-680f-4f2b-bd39-e84e9c6b8cee",
   "metadata": {
    "scrolled": true
   },
   "outputs": [],
   "source": [
    "for i in range(0, len(df.columns), 2):\n",
    "    y  = df.iloc[:, i+1] # intensity\n",
    "    x = df.iloc[:, i]  # wvl\n",
    "    y_dark = df.iloc[:, -1]\n",
    "\n",
    "    # substract background\n",
    "    corrected = y - y_dark\n",
    "\n",
    "    plt.plot(x, np.log(corrected), '-', label=df.columns[i])\n",
    "    plt.xlim(600, 950)\n",
    "    plt.legend()\n",
    "    plt.grid()\n",
    "    plt.show()\n"
   ]
  },
  {
   "cell_type": "code",
   "execution_count": null,
   "id": "172b108c",
   "metadata": {},
   "outputs": [],
   "source": [
    "x = df.iloc[:, 0]\n",
    "y = df.iloc[:, 1]\n",
    "\n",
    "interpolation = interp1d(x, y, kind='linear', fill_value='extrapolate')\n",
    "# Borne d'intégration \n",
    "x_inter = np.linspace(650, 900, 1000) #to be adjusted one time\n",
    "y_inter = interpolation(x_inter)\n",
    "aire = trapz(y_inter, x_inter)\n",
    "print(\"Intégrale de la courbe interpolée :\", aire)\n",
    "\n",
    "plt.plot(x, y, '-', label=df.columns[1])\n",
    "plt.plot(x_inter, y_inter,'r-', label='Intégrale')\n",
    "plt.fill_between(x_inter, y_inter, alpha=0.3)\n",
    "plt.legend()\n",
    "plt.grid()\n",
    "plt.show()"
   ]
  },
  {
   "cell_type": "code",
   "execution_count": null,
   "id": "087679b8",
   "metadata": {
    "scrolled": true
   },
   "outputs": [],
   "source": [
    "integrale = []\n",
    "gap = []\n",
    "fwhm_list = []\n",
    "\n",
    "for i in range(0, len(df.columns), 2):\n",
    "    y  = df.iloc[:, i+1] # intensity\n",
    "    x = df.iloc[:, i]  # wvl\n",
    "    y_dark = df.iloc[:, -1]\n",
    "    \n",
    "    # substract background\n",
    "    y = y - y_dark\n",
    "    interpolation = interp1d(x, y, kind='linear', fill_value='extrapolate')\n",
    "    x_inter = np.linspace(650, 900, 1000)\n",
    "    y_inter = interpolation(x_inter)\n",
    "    \n",
    "    # Integrale\n",
    "    aire = trapz(y_inter, x_inter)\n",
    "    print(\"Intégrale de la courbe interpolée :\", aire)\n",
    "    integrale.append(aire)\n",
    "    \n",
    "    # Pic de PL\n",
    "    val_gap = np.argmax(y_inter)\n",
    "    x_max = x_inter[val_gap]\n",
    "    print(\"Gap de la courbe :\", x_max)\n",
    "    gap.append(x_max)\n",
    "    \n",
    "    # FWHM\n",
    "    y_max = np.max(y_inter)\n",
    "    half_max = y_max / 2\n",
    "    indices_above_half_max = np.where(y_inter >= half_max)[0]\n",
    "    x_left = x_inter[indices_above_half_max[0]]\n",
    "    x_right = x_inter[indices_above_half_max[-1]]\n",
    "    fwhm = x_right - x_left\n",
    "    print(\"FWHM :\", fwhm)\n",
    "    fwhm_list.append(fwhm)\n",
    "    \n",
    "    plt.plot(x, y,'-', label=df.columns[i])\n",
    "    plt.plot(x_inter, y_inter,'r-', label='Intégrale')\n",
    "    plt.fill_between(x_inter, y_inter, alpha=0.3)\n",
    "    plt.xlim(600, 950)\n",
    "    plt.legend()\n",
    "    plt.show()\n",
    "    "
   ]
  },
  {
   "cell_type": "code",
   "execution_count": null,
   "id": "a9d15ce9",
   "metadata": {},
   "outputs": [],
   "source": [
    "# Conversion en eV\n",
    "bandgap = []\n",
    "for i in gap:\n",
    "    Eg = 1240/i\n",
    "    bandgap.append(round(Eg, 3))\n",
    "Eg = bandgap\n",
    "print(Eg)"
   ]
  },
  {
   "cell_type": "code",
   "execution_count": null,
   "id": "09a89b93-7b87-43fd-9d15-cde24747d12e",
   "metadata": {},
   "outputs": [],
   "source": [
    "# Sauvegarde dans un dataframe \"PL_spectra\"\n",
    "PL_spectra = pd.DataFrame()\n",
    "\n",
    "for i in range(0, len(df.columns), 2):\n",
    "    y  = df.iloc[:, i+1] # intensity\n",
    "    x = df.iloc[:, i]  # wvl\n",
    "    y_dark = df.iloc[:, -1]\n",
    "    \n",
    "    # substract background\n",
    "    y = y - y_dark\n",
    "    \n",
    "    #PL_spectra['Label'] = df.columns[:: 2]\n",
    "    PL_spectra[df.columns[i]] = x\n",
    "    PL_spectra[df.columns[i+1]] = y\n",
    "\n",
    "    # Conversion en csv (dans le dossier ou se situe le code)\n",
    "    PL_spectra.to_csv('PL_spectra.csv', index=False)\n",
    "\n",
    "PL_spectra"
   ]
  },
  {
   "cell_type": "code",
   "execution_count": null,
   "id": "f09f5b1b",
   "metadata": {},
   "outputs": [],
   "source": [
    "# Sauvegarde dans un dataframe \"Integrated_PL_gap\"\n",
    "Integrated_PL_peak_fwhm = pd.DataFrame()\n",
    "\n",
    "Integrated_PL_peak_fwhm['Label'] = df.columns[:: 2]\n",
    "Integrated_PL_peak_fwhm['Integrated PL Intensity (a.u.)'] = integrale\n",
    "Integrated_PL_peak_fwhm['PL peak position (eV)'] = Eg\n",
    "Integrated_PL_peak_fwhm['FWHM (nm)'] = fwhm_list\n",
    "#Integrated_PL = fichier.dropna()\n",
    "\n",
    "# Conversion en csv (dans le dossier ou se situe le code)\n",
    "Integrated_PL_peak_fwhm.to_csv('Integrated_PL_peak_fwhm.csv', index=False)\n",
    "\n",
    "Integrated_PL_peak_fwhm"
   ]
  },
  {
   "cell_type": "code",
   "execution_count": null,
   "id": "d58cc3ce",
   "metadata": {},
   "outputs": [],
   "source": []
  },
  {
   "cell_type": "code",
   "execution_count": null,
   "id": "91df5e3c-bd45-48d0-a904-cfb28510a9b8",
   "metadata": {},
   "outputs": [],
   "source": []
  }
 ],
 "metadata": {
  "kernelspec": {
   "display_name": "Python 3 (ipykernel)",
   "language": "python",
   "name": "python3"
  },
  "language_info": {
   "codemirror_mode": {
    "name": "ipython",
    "version": 3
   },
   "file_extension": ".py",
   "mimetype": "text/x-python",
   "name": "python",
   "nbconvert_exporter": "python",
   "pygments_lexer": "ipython3",
   "version": "3.11.5"
  }
 },
 "nbformat": 4,
 "nbformat_minor": 5
}
